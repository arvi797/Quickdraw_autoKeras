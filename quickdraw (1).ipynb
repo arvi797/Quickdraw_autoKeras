{
 "cells": [
  {
   "cell_type": "code",
   "execution_count": 1,
   "metadata": {
    "_cell_guid": "b1076dfc-b9ad-4769-8c92-a6c4dae69d19",
    "_uuid": "8f2839f25d086af736a60e9eeb907d3b93b6e0e5",
    "execution": {
     "iopub.execute_input": "2020-12-21T11:38:07.369560Z",
     "iopub.status.busy": "2020-12-21T11:38:07.368905Z",
     "iopub.status.idle": "2020-12-21T11:38:08.139724Z",
     "shell.execute_reply": "2020-12-21T11:38:08.140205Z"
    },
    "papermill": {
     "duration": 0.794643,
     "end_time": "2020-12-21T11:38:08.140352",
     "exception": false,
     "start_time": "2020-12-21T11:38:07.345709",
     "status": "completed"
    },
    "tags": []
   },
   "outputs": [],
   "source": [
    "import numpy as np\n",
    "import pandas as pd\n",
    "import matplotlib.pyplot as plt\n",
    "import seaborn as sns"
   ]
  },
  {
   "cell_type": "markdown",
   "metadata": {},
   "source": [
    "### Load data"
   ]
  },
  {
   "cell_type": "code",
   "execution_count": 2,
   "metadata": {
    "_cell_guid": "79c7e3d0-c299-4dcb-8224-4455121ee9b0",
    "_uuid": "d629ff2d2480ee46fbb7e2d37f6b5fab8052498a",
    "execution": {
     "iopub.execute_input": "2020-12-21T11:38:08.180056Z",
     "iopub.status.busy": "2020-12-21T11:38:08.179559Z",
     "iopub.status.idle": "2020-12-21T11:38:08.268411Z",
     "shell.execute_reply": "2020-12-21T11:38:08.267856Z"
    },
    "papermill": {
     "duration": 0.10997,
     "end_time": "2020-12-21T11:38:08.268505",
     "exception": false,
     "start_time": "2020-12-21T11:38:08.158535",
     "status": "completed"
    },
    "tags": []
   },
   "outputs": [
    {
     "data": {
      "text/plain": [
       "((1500, 784), (1500,))"
      ]
     },
     "execution_count": 2,
     "metadata": {},
     "output_type": "execute_result"
    }
   ],
   "source": [
    "train_ds = np.load('../input/ift3395-6390-quickdraw/train.npz')\n",
    "train_x = train_ds['arr_0']\n",
    "train_y = train_ds['arr_1']\n",
    "\n",
    "train_x.shape, train_y.shape"
   ]
  },
  {
   "cell_type": "code",
   "execution_count": 3,
   "metadata": {
    "execution": {
     "iopub.execute_input": "2020-12-21T11:38:08.309313Z",
     "iopub.status.busy": "2020-12-21T11:38:08.308795Z",
     "iopub.status.idle": "2020-12-21T11:38:10.354112Z",
     "shell.execute_reply": "2020-12-21T11:38:10.354593Z"
    },
    "papermill": {
     "duration": 2.067642,
     "end_time": "2020-12-21T11:38:10.354717",
     "exception": false,
     "start_time": "2020-12-21T11:38:08.287075",
     "status": "completed"
    },
    "tags": []
   },
   "outputs": [
    {
     "data": {
      "text/plain": [
       "(60000, 784)"
      ]
     },
     "execution_count": 3,
     "metadata": {},
     "output_type": "execute_result"
    }
   ],
   "source": [
    "test_x = np.load('../input/ift3395-6390-quickdraw/test.npz')['arr_0']\n",
    "test_x.shape"
   ]
  },
  {
   "cell_type": "code",
   "execution_count": 4,
   "metadata": {
    "execution": {
     "iopub.execute_input": "2020-12-21T11:38:10.397046Z",
     "iopub.status.busy": "2020-12-21T11:38:10.396331Z",
     "iopub.status.idle": "2020-12-21T11:38:10.399750Z",
     "shell.execute_reply": "2020-12-21T11:38:10.400211Z"
    },
    "papermill": {
     "duration": 0.027341,
     "end_time": "2020-12-21T11:38:10.400308",
     "exception": false,
     "start_time": "2020-12-21T11:38:10.372967",
     "status": "completed"
    },
    "tags": []
   },
   "outputs": [
    {
     "name": "stdout",
     "output_type": "stream",
     "text": [
      "[[  0 250]\n",
      " [  1 250]\n",
      " [  2 250]\n",
      " [  3 250]\n",
      " [  4 250]\n",
      " [  5 250]]\n"
     ]
    }
   ],
   "source": [
    "unique, counts = np.unique(train_y, return_counts=True)\n",
    "print(np.asarray((unique, counts)).T)"
   ]
  },
  {
   "cell_type": "markdown",
   "metadata": {},
   "source": [
    "### Display image from each class"
   ]
  },
  {
   "cell_type": "code",
   "execution_count": 6,
   "metadata": {
    "execution": {
     "iopub.execute_input": "2020-12-21T11:38:10.489961Z",
     "iopub.status.busy": "2020-12-21T11:38:10.489469Z",
     "iopub.status.idle": "2020-12-21T11:38:10.493326Z",
     "shell.execute_reply": "2020-12-21T11:38:10.492886Z"
    },
    "papermill": {
     "duration": 0.028038,
     "end_time": "2020-12-21T11:38:10.493405",
     "exception": false,
     "start_time": "2020-12-21T11:38:10.465367",
     "status": "completed"
    },
    "tags": []
   },
   "outputs": [],
   "source": [
    "def plot_example(labels, num_classes):\n",
    "    ex = []\n",
    "    for i in range(6):\n",
    "        ex.append(np.where(labels==i)[0][0])\n",
    "    \n",
    "    for i in ex:\n",
    "        plt.imshow(train_x[i].reshape(28, 28))\n",
    "        plt.title(train_y[i])\n",
    "        plt.show()"
   ]
  },
  {
   "cell_type": "code",
   "execution_count": 7,
   "metadata": {
    "execution": {
     "iopub.execute_input": "2020-12-21T11:38:10.535435Z",
     "iopub.status.busy": "2020-12-21T11:38:10.534870Z",
     "iopub.status.idle": "2020-12-21T11:38:11.319036Z",
     "shell.execute_reply": "2020-12-21T11:38:11.318620Z"
    },
    "papermill": {
     "duration": 0.806752,
     "end_time": "2020-12-21T11:38:11.319130",
     "exception": false,
     "start_time": "2020-12-21T11:38:10.512378",
     "status": "completed"
    },
    "tags": []
   },
   "outputs": [
    {
     "data": {
      "image/png": "[encoded data removed]",
      "text/plain": [
       "<Figure size 432x288 with 1 Axes>"
      ]
     },
     "metadata": {
      "needs_background": "light"
     },
     "output_type": "display_data"
    },
    {
     "data": {
      "image/png": "[encoded data removed]",
      "text/plain": [
       "<Figure size 432x288 with 1 Axes>"
      ]
     },
     "metadata": {
      "needs_background": "light"
     },
     "output_type": "display_data"
    },
    {
     "data": {
      "image/png": "[encoded data removed]",
      "text/plain": [
       "<Figure size 432x288 with 1 Axes>"
      ]
     },
     "metadata": {
      "needs_background": "light"
     },
     "output_type": "display_data"
    },
    {
     "data": {
      "image/png": "[encoded data removed]",
      "text/plain": [
       "<Figure size 432x288 with 1 Axes>"
      ]
     },
     "metadata": {
      "needs_background": "light"
     },
     "output_type": "display_data"
    },
    {
     "data": {
      "image/png": "[encoded data removed]",
      "text/plain": [
       "<Figure size 432x288 with 1 Axes>"
      ]
     },
     "metadata": {
      "needs_background": "light"
     },
     "output_type": "display_data"
    },
    {
     "data": {
      "image/png": "[encoded data removed]",
      "text/plain": [
       "<Figure size 432x288 with 1 Axes>"
      ]
     },
     "metadata": {
      "needs_background": "light"
     },
     "output_type": "display_data"
    }
   ],
   "source": [
    "plot_example(train_y, 6)"
   ]
  },
  {
   "cell_type": "markdown",
   "metadata": {},
   "source": [
    "### Pixel Importance"
   ]
  },
  {
   "cell_type": "code",
   "execution_count": 8,
   "metadata": {
    "execution": {
     "iopub.execute_input": "2020-12-21T11:38:11.370754Z",
     "iopub.status.busy": "2020-12-21T11:38:11.370254Z",
     "iopub.status.idle": "2020-12-21T11:38:11.481150Z",
     "shell.execute_reply": "2020-12-21T11:38:11.480681Z"
    },
    "papermill": {
     "duration": 0.138858,
     "end_time": "2020-12-21T11:38:11.481277",
     "exception": false,
     "start_time": "2020-12-21T11:38:11.342419",
     "status": "completed"
    },
    "tags": []
   },
   "outputs": [],
   "source": [
    "from sklearn.model_selection import train_test_split\n",
    "X_train, X_test, y_train, y_test = train_test_split(train_x/255., train_y, test_size=0.2, stratify=train_y, random_state=0)"
   ]
  },
  {
   "cell_type": "code",
   "execution_count": 9,
   "metadata": {
    "execution": {
     "iopub.execute_input": "2020-12-21T11:38:11.533522Z",
     "iopub.status.busy": "2020-12-21T11:38:11.532800Z",
     "iopub.status.idle": "2020-12-21T11:38:27.613786Z",
     "shell.execute_reply": "2020-12-21T11:38:27.612963Z"
    },
    "papermill": {
     "duration": 16.109852,
     "end_time": "2020-12-21T11:38:27.613894",
     "exception": false,
     "start_time": "2020-12-21T11:38:11.504042",
     "status": "completed"
    },
    "tags": []
   },
   "outputs": [
    {
     "data": {
      "image/png": "[encoded data removed]",
      "text/plain": [
       "<Figure size 288x288 with 1 Axes>"
      ]
     },
     "metadata": {
      "needs_background": "light"
     },
     "output_type": "display_data"
    }
   ],
   "source": [
    "from sklearn.ensemble import RandomForestClassifier\n",
    "\n",
    "rf = RandomForestClassifier(n_estimators=2000, n_jobs=-1, random_state=0)\n",
    "rf.fit(X_train, y_train)\n",
    "importances = rf.feature_importances_\n",
    "importances = importances.reshape((28,28))\n",
    "plt.matshow(importances, cmap=plt.cm.hot);\n",
    "plt.title('Pixel importances\\n');"
   ]
  },
  {
   "cell_type": "markdown",
   "metadata": {},
   "source": [
    "### Install autokeras and keras-tuner"
   ]
  },
  {
   "cell_type": "code",
   "execution_count": 11,
   "metadata": {
    "execution": {
     "iopub.execute_input": "2020-12-21T11:38:36.708022Z",
     "iopub.status.busy": "2020-12-21T11:38:36.707338Z",
     "iopub.status.idle": "2020-12-21T11:38:46.556684Z",
     "shell.execute_reply": "2020-12-21T11:38:46.555348Z"
    },
    "papermill": {
     "duration": 9.900842,
     "end_time": "2020-12-21T11:38:46.556796",
     "exception": false,
     "start_time": "2020-12-21T11:38:36.655954",
     "status": "completed"
    },
    "tags": []
   },
   "outputs": [
    {
     "name": "stdout",
     "output_type": "stream",
     "text": [
      "Collecting git+https://github.com/keras-team/keras-tuner.git@1.0.2rc4\r\n",
      "  Cloning https://github.com/keras-team/keras-tuner.git (to revision 1.0.2rc4) to /tmp/pip-req-build-_gjiw0pf\r\n",
      "Requirement already satisfied: packaging in /opt/conda/lib/python3.7/site-packages (from keras-tuner==1.0.2rc4) (20.1)\r\n",
      "Requirement already satisfied: future in /opt/conda/lib/python3.7/site-packages (from keras-tuner==1.0.2rc4) (0.18.2)\r\n",
      "Requirement already satisfied: numpy<1.19.0 in /opt/conda/lib/python3.7/site-packages (from keras-tuner==1.0.2rc4) (1.18.5)\r\n",
      "Requirement already satisfied: tabulate in /opt/conda/lib/python3.7/site-packages (from keras-tuner==1.0.2rc4) (0.8.7)\r\n",
      "Requirement already satisfied: terminaltables in /opt/conda/lib/python3.7/site-packages (from keras-tuner==1.0.2rc4) (3.1.0)\r\n",
      "Requirement already satisfied: colorama in /opt/conda/lib/python3.7/site-packages (from keras-tuner==1.0.2rc4) (0.4.3)\r\n",
      "Requirement already satisfied: tqdm in /opt/conda/lib/python3.7/site-packages (from keras-tuner==1.0.2rc4) (4.45.0)\r\n",
      "Requirement already satisfied: requests in /opt/conda/lib/python3.7/site-packages (from keras-tuner==1.0.2rc4) (2.23.0)\r\n",
      "Requirement already satisfied: scipy in /opt/conda/lib/python3.7/site-packages (from keras-tuner==1.0.2rc4) (1.4.1)\r\n",
      "Requirement already satisfied: scikit-learn in /opt/conda/lib/python3.7/site-packages (from keras-tuner==1.0.2rc4) (0.23.2)\r\n",
      "Requirement already satisfied: pyparsing>=2.0.2 in /opt/conda/lib/python3.7/site-packages (from packaging->keras-tuner==1.0.2rc4) (2.4.7)\r\n",
      "Requirement already satisfied: six in /opt/conda/lib/python3.7/site-packages (from packaging->keras-tuner==1.0.2rc4) (1.14.0)\r\n",
      "Requirement already satisfied: urllib3!=1.25.0,!=1.25.1,<1.26,>=1.21.1 in /opt/conda/lib/python3.7/site-packages (from requests->keras-tuner==1.0.2rc4) (1.25.9)\r\n",
      "Requirement already satisfied: chardet<4,>=3.0.2 in /opt/conda/lib/python3.7/site-packages (from requests->keras-tuner==1.0.2rc4) (3.0.4)\r\n",
      "Requirement already satisfied: certifi>=2017.4.17 in /opt/conda/lib/python3.7/site-packages (from requests->keras-tuner==1.0.2rc4) (2020.12.5)\r\n",
      "Requirement already satisfied: idna<3,>=2.5 in /opt/conda/lib/python3.7/site-packages (from requests->keras-tuner==1.0.2rc4) (2.9)\r\n",
      "Requirement already satisfied: joblib>=0.11 in /opt/conda/lib/python3.7/site-packages (from scikit-learn->keras-tuner==1.0.2rc4) (0.14.1)\r\n",
      "Requirement already satisfied: scipy in /opt/conda/lib/python3.7/site-packages (from keras-tuner==1.0.2rc4) (1.4.1)\r\n",
      "Requirement already satisfied: numpy<1.19.0 in /opt/conda/lib/python3.7/site-packages (from keras-tuner==1.0.2rc4) (1.18.5)\r\n",
      "Requirement already satisfied: threadpoolctl>=2.0.0 in /opt/conda/lib/python3.7/site-packages (from scikit-learn->keras-tuner==1.0.2rc4) (2.1.0)\r\n",
      "Requirement already satisfied: numpy<1.19.0 in /opt/conda/lib/python3.7/site-packages (from keras-tuner==1.0.2rc4) (1.18.5)\r\n",
      "Building wheels for collected packages: keras-tuner\r\n",
      "  Building wheel for keras-tuner (setup.py) ... \u001b[?25l-\b \b\\\b \bdone\r\n",
      "\u001b[?25h  Created wheel for keras-tuner: filename=keras_tuner-1.0.2rc4-py3-none-any.whl size=92363 sha256=581d5395d49e957594049eb557ff72ab5f85902388dab79f94d618ffe839ca54\r\n",
      "  Stored in directory: /tmp/pip-ephem-wheel-cache-erled7mk/wheels/82/ac/bd/3c81a67208c3dbbd1998f302c6ada5985d5422cf55d81153d0\r\n",
      "Successfully built keras-tuner\r\n",
      "Installing collected packages: keras-tuner\r\n",
      "  Attempting uninstall: keras-tuner\r\n",
      "    Found existing installation: keras-tuner 1.0.2\r\n",
      "    Uninstalling keras-tuner-1.0.2:\r\n",
      "      Successfully uninstalled keras-tuner-1.0.2\r\n",
      "\u001b[31mERROR: pip's dependency resolver does not currently take into account all the packages that are installed. This behaviour is the source of the following dependency conflicts.\r\n",
      "autokeras 1.0.12 requires keras-tuner>=1.0.2, but you have keras-tuner 1.0.2rc4 which is incompatible.\u001b[0m\r\n",
      "Successfully installed keras-tuner-1.0.2rc4\r\n",
      "\u001b[33mWARNING: You are using pip version 20.3.1; however, version 20.3.3 is available.\r\n",
      "You should consider upgrading via the '/opt/conda/bin/python3.7 -m pip install --upgrade pip' command.\u001b[0m\r\n"
     ]
    }
   ],
   "source": [
    "!pip install git+https://github.com/keras-team/keras-tuner.git@1.0.2rc4"
   ]
  },
  {
   "cell_type": "code",
   "execution_count": 12,
   "metadata": {
    "execution": {
     "iopub.execute_input": "2020-12-21T11:38:46.629332Z",
     "iopub.status.busy": "2020-12-21T11:38:46.623983Z",
     "iopub.status.idle": "2020-12-21T11:38:56.502718Z",
     "shell.execute_reply": "2020-12-21T11:38:56.502107Z"
    },
    "papermill": {
     "duration": 9.914138,
     "end_time": "2020-12-21T11:38:56.502831",
     "exception": false,
     "start_time": "2020-12-21T11:38:46.588693",
     "status": "completed"
    },
    "tags": []
   },
   "outputs": [
    {
     "name": "stdout",
     "output_type": "stream",
     "text": [
      "Requirement already satisfied: keras-tuner in /opt/conda/lib/python3.7/site-packages (1.0.2rc4)\r\n",
      "Collecting keras-tuner\r\n",
      "  Downloading keras-tuner-1.0.2.tar.gz (62 kB)\r\n",
      "\u001b[K     |████████████████████████████████| 62 kB 506 kB/s \r\n",
      "\u001b[?25hRequirement already satisfied: packaging in /opt/conda/lib/python3.7/site-packages (from keras-tuner) (20.1)\r\n",
      "Requirement already satisfied: future in /opt/conda/lib/python3.7/site-packages (from keras-tuner) (0.18.2)\r\n",
      "Requirement already satisfied: numpy in /opt/conda/lib/python3.7/site-packages (from keras-tuner) (1.18.5)\r\n",
      "Requirement already satisfied: tabulate in /opt/conda/lib/python3.7/site-packages (from keras-tuner) (0.8.7)\r\n",
      "Requirement already satisfied: terminaltables in /opt/conda/lib/python3.7/site-packages (from keras-tuner) (3.1.0)\r\n",
      "Requirement already satisfied: colorama in /opt/conda/lib/python3.7/site-packages (from keras-tuner) (0.4.3)\r\n",
      "Requirement already satisfied: tqdm in /opt/conda/lib/python3.7/site-packages (from keras-tuner) (4.45.0)\r\n",
      "Requirement already satisfied: requests in /opt/conda/lib/python3.7/site-packages (from keras-tuner) (2.23.0)\r\n",
      "Requirement already satisfied: scipy in /opt/conda/lib/python3.7/site-packages (from keras-tuner) (1.4.1)\r\n",
      "Requirement already satisfied: scikit-learn in /opt/conda/lib/python3.7/site-packages (from keras-tuner) (0.23.2)\r\n",
      "Requirement already satisfied: pyparsing>=2.0.2 in /opt/conda/lib/python3.7/site-packages (from packaging->keras-tuner) (2.4.7)\r\n",
      "Requirement already satisfied: six in /opt/conda/lib/python3.7/site-packages (from packaging->keras-tuner) (1.14.0)\r\n",
      "Requirement already satisfied: chardet<4,>=3.0.2 in /opt/conda/lib/python3.7/site-packages (from requests->keras-tuner) (3.0.4)\r\n",
      "Requirement already satisfied: urllib3!=1.25.0,!=1.25.1,<1.26,>=1.21.1 in /opt/conda/lib/python3.7/site-packages (from requests->keras-tuner) (1.25.9)\r\n",
      "Requirement already satisfied: idna<3,>=2.5 in /opt/conda/lib/python3.7/site-packages (from requests->keras-tuner) (2.9)\r\n",
      "Requirement already satisfied: certifi>=2017.4.17 in /opt/conda/lib/python3.7/site-packages (from requests->keras-tuner) (2020.12.5)\r\n",
      "Requirement already satisfied: joblib>=0.11 in /opt/conda/lib/python3.7/site-packages (from scikit-learn->keras-tuner) (0.14.1)\r\n",
      "Requirement already satisfied: numpy in /opt/conda/lib/python3.7/site-packages (from keras-tuner) (1.18.5)\r\n",
      "Requirement already satisfied: threadpoolctl>=2.0.0 in /opt/conda/lib/python3.7/site-packages (from scikit-learn->keras-tuner) (2.1.0)\r\n",
      "Requirement already satisfied: scipy in /opt/conda/lib/python3.7/site-packages (from keras-tuner) (1.4.1)\r\n",
      "Requirement already satisfied: numpy in /opt/conda/lib/python3.7/site-packages (from keras-tuner) (1.18.5)\r\n",
      "Building wheels for collected packages: keras-tuner\r\n",
      "  Building wheel for keras-tuner (setup.py) ... \u001b[?25l-\b \b\\\b \bdone\r\n",
      "\u001b[?25h  Created wheel for keras-tuner: filename=keras_tuner-1.0.2-py3-none-any.whl size=78936 sha256=690a6b700c116e378130d8435d93ec1d4860c89faa46bd27295b9e9d26125d71\r\n",
      "  Stored in directory: /root/.cache/pip/wheels/78/e2/80/7fe373cad54ad22b06d0d6204cbc29cead9e69bb2680327775\r\n",
      "Successfully built keras-tuner\r\n",
      "Installing collected packages: keras-tuner\r\n",
      "  Attempting uninstall: keras-tuner\r\n",
      "    Found existing installation: keras-tuner 1.0.2rc4\r\n",
      "    Uninstalling keras-tuner-1.0.2rc4:\r\n",
      "      Successfully uninstalled keras-tuner-1.0.2rc4\r\n",
      "Successfully installed keras-tuner-1.0.2\r\n",
      "\u001b[33mWARNING: You are using pip version 20.3.1; however, version 20.3.3 is available.\r\n",
      "You should consider upgrading via the '/opt/conda/bin/python3.7 -m pip install --upgrade pip' command.\u001b[0m\r\n"
     ]
    }
   ],
   "source": [
    "!pip install --upgrade keras-tuner"
   ]
  },
  {
   "cell_type": "code",
   "execution_count": 10,
   "metadata": {
    "execution": {
     "iopub.execute_input": "2020-12-21T11:38:27.666855Z",
     "iopub.status.busy": "2020-12-21T11:38:27.666109Z",
     "iopub.status.idle": "2020-12-21T11:38:36.612075Z",
     "shell.execute_reply": "2020-12-21T11:38:36.611448Z"
    },
    "papermill": {
     "duration": 8.974331,
     "end_time": "2020-12-21T11:38:36.612220",
     "exception": false,
     "start_time": "2020-12-21T11:38:27.637889",
     "status": "completed"
    },
    "tags": []
   },
   "outputs": [
    {
     "name": "stdout",
     "output_type": "stream",
     "text": [
      "Collecting autokeras\r\n",
      "  Downloading autokeras-1.0.12-py3-none-any.whl (164 kB)\r\n",
      "\u001b[K     |████████████████████████████████| 164 kB 885 kB/s \r\n",
      "\u001b[?25hRequirement already satisfied: keras-tuner>=1.0.2 in /opt/conda/lib/python3.7/site-packages (from autokeras) (1.0.2)\r\n",
      "Requirement already satisfied: pandas in /opt/conda/lib/python3.7/site-packages (from autokeras) (1.1.5)\r\n",
      "Requirement already satisfied: tensorflow>=2.3.0 in /opt/conda/lib/python3.7/site-packages (from autokeras) (2.3.1)\r\n",
      "Requirement already satisfied: scikit-learn in /opt/conda/lib/python3.7/site-packages (from autokeras) (0.23.2)\r\n",
      "Requirement already satisfied: packaging in /opt/conda/lib/python3.7/site-packages (from autokeras) (20.1)\r\n",
      "Requirement already satisfied: future in /opt/conda/lib/python3.7/site-packages (from keras-tuner>=1.0.2->autokeras) (0.18.2)\r\n",
      "Requirement already satisfied: colorama in /opt/conda/lib/python3.7/site-packages (from keras-tuner>=1.0.2->autokeras) (0.4.3)\r\n",
      "Requirement already satisfied: terminaltables in /opt/conda/lib/python3.7/site-packages (from keras-tuner>=1.0.2->autokeras) (3.1.0)\r\n",
      "Requirement already satisfied: tqdm in /opt/conda/lib/python3.7/site-packages (from keras-tuner>=1.0.2->autokeras) (4.45.0)\r\n",
      "Requirement already satisfied: scikit-learn in /opt/conda/lib/python3.7/site-packages (from autokeras) (0.23.2)\r\n",
      "Requirement already satisfied: packaging in /opt/conda/lib/python3.7/site-packages (from autokeras) (20.1)\r\n",
      "Requirement already satisfied: requests in /opt/conda/lib/python3.7/site-packages (from keras-tuner>=1.0.2->autokeras) (2.23.0)\r\n",
      "Requirement already satisfied: tabulate in /opt/conda/lib/python3.7/site-packages (from keras-tuner>=1.0.2->autokeras) (0.8.7)\r\n",
      "Requirement already satisfied: scipy in /opt/conda/lib/python3.7/site-packages (from keras-tuner>=1.0.2->autokeras) (1.4.1)\r\n",
      "Requirement already satisfied: numpy in /opt/conda/lib/python3.7/site-packages (from keras-tuner>=1.0.2->autokeras) (1.18.5)\r\n",
      "Requirement already satisfied: six in /opt/conda/lib/python3.7/site-packages (from packaging->autokeras) (1.14.0)\r\n",
      "Requirement already satisfied: pyparsing>=2.0.2 in /opt/conda/lib/python3.7/site-packages (from packaging->autokeras) (2.4.7)\r\n",
      "Requirement already satisfied: pytz>=2017.2 in /opt/conda/lib/python3.7/site-packages (from pandas->autokeras) (2019.3)\r\n",
      "Requirement already satisfied: numpy in /opt/conda/lib/python3.7/site-packages (from keras-tuner>=1.0.2->autokeras) (1.18.5)\r\n",
      "Requirement already satisfied: python-dateutil>=2.7.3 in /opt/conda/lib/python3.7/site-packages (from pandas->autokeras) (2.8.1)\r\n",
      "Requirement already satisfied: six in /opt/conda/lib/python3.7/site-packages (from packaging->autokeras) (1.14.0)\r\n",
      "Requirement already satisfied: urllib3!=1.25.0,!=1.25.1,<1.26,>=1.21.1 in /opt/conda/lib/python3.7/site-packages (from requests->keras-tuner>=1.0.2->autokeras) (1.25.9)\r\n",
      "Requirement already satisfied: idna<3,>=2.5 in /opt/conda/lib/python3.7/site-packages (from requests->keras-tuner>=1.0.2->autokeras) (2.9)\r\n",
      "Requirement already satisfied: certifi>=2017.4.17 in /opt/conda/lib/python3.7/site-packages (from requests->keras-tuner>=1.0.2->autokeras) (2020.12.5)\r\n",
      "Requirement already satisfied: chardet<4,>=3.0.2 in /opt/conda/lib/python3.7/site-packages (from requests->keras-tuner>=1.0.2->autokeras) (3.0.4)\r\n",
      "Requirement already satisfied: joblib>=0.11 in /opt/conda/lib/python3.7/site-packages (from scikit-learn->autokeras) (0.14.1)\r\n",
      "Requirement already satisfied: threadpoolctl>=2.0.0 in /opt/conda/lib/python3.7/site-packages (from scikit-learn->autokeras) (2.1.0)\r\n",
      "Requirement already satisfied: scipy in /opt/conda/lib/python3.7/site-packages (from keras-tuner>=1.0.2->autokeras) (1.4.1)\r\n",
      "Requirement already satisfied: numpy in /opt/conda/lib/python3.7/site-packages (from keras-tuner>=1.0.2->autokeras) (1.18.5)\r\n",
      "Requirement already satisfied: numpy in /opt/conda/lib/python3.7/site-packages (from keras-tuner>=1.0.2->autokeras) (1.18.5)\r\n",
      "Requirement already satisfied: h5py<2.11.0,>=2.10.0 in /opt/conda/lib/python3.7/site-packages (from tensorflow>=2.3.0->autokeras) (2.10.0)\r\n",
      "Requirement already satisfied: six in /opt/conda/lib/python3.7/site-packages (from packaging->autokeras) (1.14.0)\r\n",
      "Requirement already satisfied: google-pasta>=0.1.8 in /opt/conda/lib/python3.7/site-packages (from tensorflow>=2.3.0->autokeras) (0.2.0)\r\n",
      "Requirement already satisfied: keras-preprocessing<1.2,>=1.1.1 in /opt/conda/lib/python3.7/site-packages (from tensorflow>=2.3.0->autokeras) (1.1.2)\r\n",
      "Requirement already satisfied: tensorflow-estimator<2.4.0,>=2.3.0 in /opt/conda/lib/python3.7/site-packages (from tensorflow>=2.3.0->autokeras) (2.3.0)\r\n",
      "Requirement already satisfied: grpcio>=1.8.6 in /opt/conda/lib/python3.7/site-packages (from tensorflow>=2.3.0->autokeras) (1.34.0)\r\n",
      "Requirement already satisfied: opt-einsum>=2.3.2 in /opt/conda/lib/python3.7/site-packages (from tensorflow>=2.3.0->autokeras) (3.3.0)\r\n",
      "Requirement already satisfied: tensorboard<3,>=2.3.0 in /opt/conda/lib/python3.7/site-packages (from tensorflow>=2.3.0->autokeras) (2.4.0)\r\n",
      "Requirement already satisfied: numpy in /opt/conda/lib/python3.7/site-packages (from keras-tuner>=1.0.2->autokeras) (1.18.5)\r\n",
      "Requirement already satisfied: protobuf>=3.9.2 in /opt/conda/lib/python3.7/site-packages (from tensorflow>=2.3.0->autokeras) (3.14.0)\r\n",
      "Requirement already satisfied: wrapt>=1.11.1 in /opt/conda/lib/python3.7/site-packages (from tensorflow>=2.3.0->autokeras) (1.12.1)\r\n",
      "Requirement already satisfied: absl-py>=0.7.0 in /opt/conda/lib/python3.7/site-packages (from tensorflow>=2.3.0->autokeras) (0.10.0)\r\n",
      "Requirement already satisfied: gast==0.3.3 in /opt/conda/lib/python3.7/site-packages (from tensorflow>=2.3.0->autokeras) (0.3.3)\r\n",
      "Requirement already satisfied: termcolor>=1.1.0 in /opt/conda/lib/python3.7/site-packages (from tensorflow>=2.3.0->autokeras) (1.1.0)\r\n",
      "Requirement already satisfied: wheel>=0.26 in /opt/conda/lib/python3.7/site-packages (from tensorflow>=2.3.0->autokeras) (0.34.2)\r\n",
      "Requirement already satisfied: astunparse==1.6.3 in /opt/conda/lib/python3.7/site-packages (from tensorflow>=2.3.0->autokeras) (1.6.3)\r\n",
      "Requirement already satisfied: six in /opt/conda/lib/python3.7/site-packages (from packaging->autokeras) (1.14.0)\r\n",
      "Requirement already satisfied: wheel>=0.26 in /opt/conda/lib/python3.7/site-packages (from tensorflow>=2.3.0->autokeras) (0.34.2)\r\n",
      "Requirement already satisfied: six in /opt/conda/lib/python3.7/site-packages (from packaging->autokeras) (1.14.0)\r\n",
      "Requirement already satisfied: six in /opt/conda/lib/python3.7/site-packages (from packaging->autokeras) (1.14.0)\r\n",
      "Requirement already satisfied: six in /opt/conda/lib/python3.7/site-packages (from packaging->autokeras) (1.14.0)\r\n",
      "Requirement already satisfied: six in /opt/conda/lib/python3.7/site-packages (from packaging->autokeras) (1.14.0)\r\n",
      "Requirement already satisfied: numpy in /opt/conda/lib/python3.7/site-packages (from keras-tuner>=1.0.2->autokeras) (1.18.5)\r\n",
      "Requirement already satisfied: six in /opt/conda/lib/python3.7/site-packages (from packaging->autokeras) (1.14.0)\r\n",
      "Requirement already satisfied: numpy in /opt/conda/lib/python3.7/site-packages (from keras-tuner>=1.0.2->autokeras) (1.18.5)\r\n",
      "Requirement already satisfied: numpy in /opt/conda/lib/python3.7/site-packages (from keras-tuner>=1.0.2->autokeras) (1.18.5)\r\n",
      "Requirement already satisfied: six in /opt/conda/lib/python3.7/site-packages (from packaging->autokeras) (1.14.0)\r\n",
      "Requirement already satisfied: google-auth-oauthlib<0.5,>=0.4.1 in /opt/conda/lib/python3.7/site-packages (from tensorboard<3,>=2.3.0->tensorflow>=2.3.0->autokeras) (0.4.1)\r\n",
      "Requirement already satisfied: grpcio>=1.8.6 in /opt/conda/lib/python3.7/site-packages (from tensorflow>=2.3.0->autokeras) (1.34.0)\r\n",
      "Requirement already satisfied: setuptools>=41.0.0 in /opt/conda/lib/python3.7/site-packages (from tensorboard<3,>=2.3.0->tensorflow>=2.3.0->autokeras) (46.1.3.post20200325)\r\n",
      "Requirement already satisfied: tensorboard-plugin-wit>=1.6.0 in /opt/conda/lib/python3.7/site-packages (from tensorboard<3,>=2.3.0->tensorflow>=2.3.0->autokeras) (1.7.0)\r\n",
      "Requirement already satisfied: wheel>=0.26 in /opt/conda/lib/python3.7/site-packages (from tensorflow>=2.3.0->autokeras) (0.34.2)\r\n",
      "Requirement already satisfied: six in /opt/conda/lib/python3.7/site-packages (from packaging->autokeras) (1.14.0)\r\n",
      "Requirement already satisfied: markdown>=2.6.8 in /opt/conda/lib/python3.7/site-packages (from tensorboard<3,>=2.3.0->tensorflow>=2.3.0->autokeras) (3.2.1)\r\n",
      "Requirement already satisfied: numpy in /opt/conda/lib/python3.7/site-packages (from keras-tuner>=1.0.2->autokeras) (1.18.5)\r\n",
      "Requirement already satisfied: requests in /opt/conda/lib/python3.7/site-packages (from keras-tuner>=1.0.2->autokeras) (2.23.0)\r\n",
      "Requirement already satisfied: protobuf>=3.9.2 in /opt/conda/lib/python3.7/site-packages (from tensorflow>=2.3.0->autokeras) (3.14.0)\r\n",
      "Requirement already satisfied: werkzeug>=0.11.15 in /opt/conda/lib/python3.7/site-packages (from tensorboard<3,>=2.3.0->tensorflow>=2.3.0->autokeras) (1.0.1)\r\n",
      "Requirement already satisfied: absl-py>=0.7.0 in /opt/conda/lib/python3.7/site-packages (from tensorflow>=2.3.0->autokeras) (0.10.0)\r\n",
      "Requirement already satisfied: google-auth<2,>=1.6.3 in /opt/conda/lib/python3.7/site-packages (from tensorboard<3,>=2.3.0->tensorflow>=2.3.0->autokeras) (1.23.0)\r\n",
      "Requirement already satisfied: cachetools<5.0,>=2.0.0 in /opt/conda/lib/python3.7/site-packages (from google-auth<2,>=1.6.3->tensorboard<3,>=2.3.0->tensorflow>=2.3.0->autokeras) (3.1.1)\r\n",
      "Requirement already satisfied: six in /opt/conda/lib/python3.7/site-packages (from packaging->autokeras) (1.14.0)\r\n",
      "Requirement already satisfied: rsa<5,>=3.1.4 in /opt/conda/lib/python3.7/site-packages (from google-auth<2,>=1.6.3->tensorboard<3,>=2.3.0->tensorflow>=2.3.0->autokeras) (4.0)\r\n",
      "Requirement already satisfied: pyasn1-modules>=0.2.1 in /opt/conda/lib/python3.7/site-packages (from google-auth<2,>=1.6.3->tensorboard<3,>=2.3.0->tensorflow>=2.3.0->autokeras) (0.2.7)\r\n",
      "Requirement already satisfied: setuptools>=41.0.0 in /opt/conda/lib/python3.7/site-packages (from tensorboard<3,>=2.3.0->tensorflow>=2.3.0->autokeras) (46.1.3.post20200325)\r\n",
      "Requirement already satisfied: requests-oauthlib>=0.7.0 in /opt/conda/lib/python3.7/site-packages (from google-auth-oauthlib<0.5,>=0.4.1->tensorboard<3,>=2.3.0->tensorflow>=2.3.0->autokeras) (1.2.0)\r\n",
      "Requirement already satisfied: google-auth<2,>=1.6.3 in /opt/conda/lib/python3.7/site-packages (from tensorboard<3,>=2.3.0->tensorflow>=2.3.0->autokeras) (1.23.0)\r\n",
      "Requirement already satisfied: setuptools>=41.0.0 in /opt/conda/lib/python3.7/site-packages (from tensorboard<3,>=2.3.0->tensorflow>=2.3.0->autokeras) (46.1.3.post20200325)\r\n",
      "Requirement already satisfied: pyasn1<0.5.0,>=0.4.6 in /opt/conda/lib/python3.7/site-packages (from pyasn1-modules>=0.2.1->google-auth<2,>=1.6.3->tensorboard<3,>=2.3.0->tensorflow>=2.3.0->autokeras) (0.4.8)\r\n",
      "Requirement already satisfied: oauthlib>=3.0.0 in /opt/conda/lib/python3.7/site-packages (from requests-oauthlib>=0.7.0->google-auth-oauthlib<0.5,>=0.4.1->tensorboard<3,>=2.3.0->tensorflow>=2.3.0->autokeras) (3.0.1)\r\n",
      "Requirement already satisfied: requests in /opt/conda/lib/python3.7/site-packages (from keras-tuner>=1.0.2->autokeras) (2.23.0)\r\n",
      "Requirement already satisfied: pyasn1<0.5.0,>=0.4.6 in /opt/conda/lib/python3.7/site-packages (from pyasn1-modules>=0.2.1->google-auth<2,>=1.6.3->tensorboard<3,>=2.3.0->tensorflow>=2.3.0->autokeras) (0.4.8)\r\n",
      "Installing collected packages: autokeras\r\n",
      "Successfully installed autokeras-1.0.12\r\n",
      "\u001b[33mWARNING: You are using pip version 20.3.1; however, version 20.3.3 is available.\r\n",
      "You should consider upgrading via the '/opt/conda/bin/python3.7 -m pip install --upgrade pip' command.\u001b[0m\r\n"
     ]
    }
   ],
   "source": [
    "!pip install autokeras"
   ]
  },
  {
   "cell_type": "code",
   "execution_count": 13,
   "metadata": {
    "execution": {
     "iopub.execute_input": "2020-12-21T11:38:56.613470Z",
     "iopub.status.busy": "2020-12-21T11:38:56.612613Z",
     "iopub.status.idle": "2020-12-21T11:38:56.619173Z",
     "shell.execute_reply": "2020-12-21T11:38:56.619685Z"
    },
    "papermill": {
     "duration": 0.046904,
     "end_time": "2020-12-21T11:38:56.619782",
     "exception": false,
     "start_time": "2020-12-21T11:38:56.572878",
     "status": "completed"
    },
    "tags": []
   },
   "outputs": [],
   "source": [
    "train_x = train_x/255\n",
    "train_x = train_x.reshape(-1,28,28)"
   ]
  },
  {
   "cell_type": "code",
   "execution_count": 14,
   "metadata": {
    "execution": {
     "iopub.execute_input": "2020-12-21T11:38:56.694801Z",
     "iopub.status.busy": "2020-12-21T11:38:56.694043Z",
     "iopub.status.idle": "2020-12-21T11:38:56.703036Z",
     "shell.execute_reply": "2020-12-21T11:38:56.702255Z"
    },
    "papermill": {
     "duration": 0.048536,
     "end_time": "2020-12-21T11:38:56.703158",
     "exception": false,
     "start_time": "2020-12-21T11:38:56.654622",
     "status": "completed"
    },
    "tags": []
   },
   "outputs": [],
   "source": [
    "x_train, x_val, y_train, y_val = train_test_split(train_x, train_y, stratify=train_y, test_size=0.1, shuffle=True)"
   ]
  },
  {
   "cell_type": "code",
   "execution_count": 15,
   "metadata": {
    "execution": {
     "iopub.execute_input": "2020-12-21T11:38:56.779498Z",
     "iopub.status.busy": "2020-12-21T11:38:56.778735Z",
     "iopub.status.idle": "2020-12-21T11:39:01.004047Z",
     "shell.execute_reply": "2020-12-21T11:39:01.003002Z"
    },
    "papermill": {
     "duration": 4.264482,
     "end_time": "2020-12-21T11:39:01.004160",
     "exception": false,
     "start_time": "2020-12-21T11:38:56.739678",
     "status": "completed"
    },
    "tags": []
   },
   "outputs": [],
   "source": [
    "import tensorflow as tf\n",
    "from tensorflow.keras.datasets import mnist\n",
    "from tensorflow.python.keras.utils.data_utils import Sequence\n",
    "import autokeras as ak"
   ]
  },
  {
   "cell_type": "markdown",
   "metadata": {},
   "source": [
    "### To train the model"
   ]
  },
  {
   "cell_type": "code",
   "execution_count": 16,
   "metadata": {
    "execution": {
     "iopub.execute_input": "2020-12-21T11:39:01.079397Z",
     "iopub.status.busy": "2020-12-21T11:39:01.078816Z",
     "iopub.status.idle": "2020-12-21T11:39:01.089472Z",
     "shell.execute_reply": "2020-12-21T11:39:01.088877Z"
    },
    "papermill": {
     "duration": 0.049481,
     "end_time": "2020-12-21T11:39:01.089574",
     "exception": false,
     "start_time": "2020-12-21T11:39:01.040093",
     "status": "completed"
    },
    "tags": []
   },
   "outputs": [],
   "source": [
    "clf = ak.ImageClassifier(overwrite=True, max_trials=3)"
   ]
  },
  {
   "cell_type": "code",
   "execution_count": 17,
   "metadata": {
    "execution": {
     "iopub.execute_input": "2020-12-21T11:39:01.973368Z",
     "iopub.status.busy": "2020-12-21T11:39:01.972582Z",
     "iopub.status.idle": "2020-12-21T12:08:43.590775Z",
     "shell.execute_reply": "2020-12-21T12:08:43.588038Z"
    },
    "papermill": {
     "duration": 1782.465244,
     "end_time": "2020-12-21T12:08:43.590907",
     "exception": false,
     "start_time": "2020-12-21T11:39:01.125663",
     "status": "completed"
    },
    "tags": []
   },
   "outputs": [
    {
     "name": "stdout",
     "output_type": "stream",
     "text": [
      "Trial 3 Complete [00h 23m 28s]\n",
      "val_loss: 0.698908805847168\n",
      "\n",
      "Best val_loss So Far: 0.698908805847168\n",
      "Total elapsed time: 00h 26m 55s\n"
     ]
    }
   ],
   "source": [
    "clf.fit(x_train, y_train,validation_data=(x_val, y_val))"
   ]
  },
  {
   "cell_type": "code",
   "execution_count": 19,
   "metadata": {
    "execution": {
     "iopub.execute_input": "2020-12-21T12:14:23.789914Z",
     "iopub.status.busy": "2020-12-21T12:14:23.788694Z",
     "iopub.status.idle": "2020-12-21T12:17:06.875780Z",
     "shell.execute_reply": "2020-12-21T12:17:06.874147Z"
    },
    "papermill": {
     "duration": 163.128593,
     "end_time": "2020-12-21T12:17:06.875910",
     "exception": false,
     "start_time": "2020-12-21T12:14:23.747317",
     "status": "completed"
    },
    "tags": []
   },
   "outputs": [],
   "source": [
    "model = clf.export_model()"
   ]
  },
  {
   "cell_type": "code",
   "execution_count": 20,
   "metadata": {
    "execution": {
     "iopub.execute_input": "2020-12-21T12:17:06.989482Z",
     "iopub.status.busy": "2020-12-21T12:17:06.970500Z",
     "iopub.status.idle": "2020-12-21T12:19:08.002252Z",
     "shell.execute_reply": "2020-12-21T12:19:08.014829Z"
    },
    "papermill": {
     "duration": 121.100216,
     "end_time": "2020-12-21T12:19:08.014979",
     "exception": false,
     "start_time": "2020-12-21T12:17:06.914763",
     "status": "completed"
    },
    "tags": []
   },
   "outputs": [
    {
     "name": "stdout",
     "output_type": "stream",
     "text": [
      "try\n"
     ]
    }
   ],
   "source": [
    "try:\n",
    "    model.save(\"model_autokeras\", save_format=\"tf\")\n",
    "    print('try')\n",
    "except:\n",
    "    model.save(\"model_autokeras.h5\")\n",
    "    print('except')"
   ]
  },
  {
   "cell_type": "code",
   "execution_count": 21,
   "metadata": {
    "execution": {
     "iopub.execute_input": "2020-12-21T12:19:08.128386Z",
     "iopub.status.busy": "2020-12-21T12:19:08.123835Z",
     "iopub.status.idle": "2020-12-21T12:19:08.131221Z",
     "shell.execute_reply": "2020-12-21T12:19:08.130585Z"
    },
    "papermill": {
     "duration": 0.078355,
     "end_time": "2020-12-21T12:19:08.131349",
     "exception": false,
     "start_time": "2020-12-21T12:19:08.052994",
     "status": "completed"
    },
    "tags": []
   },
   "outputs": [],
   "source": [
    "del(clf)"
   ]
  },
  {
   "cell_type": "code",
   "execution_count": 22,
   "metadata": {
    "execution": {
     "iopub.execute_input": "2020-12-21T12:19:08.222783Z",
     "iopub.status.busy": "2020-12-21T12:19:08.222264Z",
     "iopub.status.idle": "2020-12-21T12:19:13.217479Z",
     "shell.execute_reply": "2020-12-21T12:19:13.216981Z"
    },
    "papermill": {
     "duration": 5.048187,
     "end_time": "2020-12-21T12:19:13.217582",
     "exception": false,
     "start_time": "2020-12-21T12:19:08.169395",
     "status": "completed"
    },
    "tags": []
   },
   "outputs": [
    {
     "name": "stdout",
     "output_type": "stream",
     "text": [
      "CPU times: user 4.95 s, sys: 6.28 ms, total: 4.96 s\n",
      "Wall time: 4.98 s\n"
     ]
    },
    {
     "data": {
      "text/plain": [
       "array([[3.34262699e-02, 8.35484266e-01, 9.75109413e-02, 2.87266262e-02,\n",
       "        4.45805537e-03, 3.93804541e-04],\n",
       "       [9.93603647e-01, 1.71512773e-03, 1.16423983e-03, 1.82330361e-04,\n",
       "        2.95463251e-03, 3.80032114e-04],\n",
       "       [2.04605367e-02, 5.56862891e-01, 9.41584408e-02, 5.96740842e-02,\n",
       "        2.45709732e-01, 2.31343340e-02],\n",
       "       [2.15612026e-03, 2.57982465e-04, 9.96106088e-01, 4.54112946e-04,\n",
       "        1.45098384e-04, 8.80609849e-04],\n",
       "       [1.69832003e-03, 3.55573483e-02, 4.95012896e-03, 6.09348179e-04,\n",
       "        5.88544365e-03, 9.51299429e-01],\n",
       "       [1.56255637e-03, 7.43178248e-01, 1.57455467e-02, 7.80925602e-02,\n",
       "        1.16014205e-01, 4.54068668e-02]], dtype=float32)"
      ]
     },
     "execution_count": 22,
     "metadata": {},
     "output_type": "execute_result"
    }
   ],
   "source": [
    "%%time\n",
    "model.predict(x_val)"
   ]
  },
  {
   "cell_type": "code",
   "execution_count": 23,
   "metadata": {
    "execution": {
     "iopub.execute_input": "2020-12-21T12:19:13.299470Z",
     "iopub.status.busy": "2020-12-21T12:19:13.298907Z",
     "iopub.status.idle": "2020-12-21T12:19:27.422514Z",
     "shell.execute_reply": "2020-12-21T12:19:27.422011Z"
    },
    "papermill": {
     "duration": 14.166052,
     "end_time": "2020-12-21T12:19:27.422618",
     "exception": false,
     "start_time": "2020-12-21T12:19:13.256566",
     "status": "completed"
    },
    "tags": []
   },
   "outputs": [
    {
     "name": "stdout",
     "output_type": "stream",
     "text": [
      "tar: Removing leading `/' from member names\r\n",
      "/kaggle/working/model_autokeras/\r\n",
      "/kaggle/working/model_autokeras/variables/\r\n",
      "/kaggle/working/model_autokeras/variables/variables.index\r\n",
      "/kaggle/working/model_autokeras/variables/variables.data-00000-of-00001\r\n",
      "/kaggle/working/model_autokeras/saved_model.pb\r\n",
      "/kaggle/working/model_autokeras/assets/\r\n"
     ]
    }
   ],
   "source": [
    "!tar -zcvf outputname.tar.gz /kaggle/working/model_autokeras"
   ]
  },
  {
   "cell_type": "code",
   "execution_count": 24,
   "metadata": {
    "execution": {
     "iopub.execute_input": "2020-12-21T12:19:27.509748Z",
     "iopub.status.busy": "2020-12-21T12:19:27.508963Z",
     "iopub.status.idle": "2020-12-21T12:19:27.637038Z",
     "shell.execute_reply": "2020-12-21T12:19:27.636026Z"
    },
    "papermill": {
     "duration": 0.173333,
     "end_time": "2020-12-21T12:19:27.637135",
     "exception": false,
     "start_time": "2020-12-21T12:19:27.463802",
     "status": "completed"
    },
    "tags": []
   },
   "outputs": [],
   "source": [
    "y_test = np.argmax(model.predict(x_val),1)"
   ]
  },
  {
   "cell_type": "code",
   "execution_count": 25,
   "metadata": {
    "execution": {
     "iopub.execute_input": "2020-12-21T12:19:27.724167Z",
     "iopub.status.busy": "2020-12-21T12:19:27.723334Z",
     "iopub.status.idle": "2020-12-21T12:19:28.081770Z",
     "shell.execute_reply": "2020-12-21T12:19:28.082534Z"
    },
    "papermill": {
     "duration": 0.405145,
     "end_time": "2020-12-21T12:19:28.082664",
     "exception": false,
     "start_time": "2020-12-21T12:19:27.677519",
     "status": "completed"
    },
    "tags": []
   },
   "outputs": [],
   "source": [
    "test_x = test_x/255"
   ]
  },
  {
   "cell_type": "markdown",
   "metadata": {},
   "source": [
    "### To load the saved weights"
   ]
  },
  {
   "cell_type": "code",
   "execution_count": 26,
   "metadata": {
    "execution": {
     "iopub.execute_input": "2020-12-21T12:19:28.171317Z",
     "iopub.status.busy": "2020-12-21T12:19:28.170160Z",
     "iopub.status.idle": "2020-12-21T12:22:10.185830Z",
     "shell.execute_reply": "2020-12-21T12:22:10.185335Z"
    },
    "papermill": {
     "duration": 162.060716,
     "end_time": "2020-12-21T12:22:10.185948",
     "exception": false,
     "start_time": "2020-12-21T12:19:28.125232",
     "status": "completed"
    },
    "tags": []
   },
   "outputs": [],
   "source": [
    "from tensorflow.keras.models import load_model\n",
    "\n",
    "loaded_model = load_model(\"model_autokeras\", custom_objects=ak.CUSTOM_OBJECTS)"
   ]
  },
  {
   "cell_type": "code",
   "execution_count": 27,
   "metadata": {
    "execution": {
     "iopub.execute_input": "2020-12-21T12:22:10.305135Z",
     "iopub.status.busy": "2020-12-21T12:22:10.303387Z",
     "iopub.status.idle": "2020-12-21T12:22:10.305780Z",
     "shell.execute_reply": "2020-12-21T12:22:10.306200Z"
    },
    "papermill": {
     "duration": 0.047982,
     "end_time": "2020-12-21T12:22:10.306303",
     "exception": false,
     "start_time": "2020-12-21T12:22:10.258321",
     "status": "completed"
    },
    "tags": []
   },
   "outputs": [],
   "source": [
    "test_x = test_x.reshape(-1,28,28)"
   ]
  },
  {
   "cell_type": "code",
   "execution_count": 28,
   "metadata": {
    "execution": {
     "iopub.execute_input": "2020-12-21T12:22:10.392820Z",
     "iopub.status.busy": "2020-12-21T12:22:10.390716Z",
     "iopub.status.idle": "2020-12-21T12:28:34.866919Z",
     "shell.execute_reply": "2020-12-21T12:28:34.865767Z"
    },
    "papermill": {
     "duration": 384.520331,
     "end_time": "2020-12-21T12:28:34.867048",
     "exception": false,
     "start_time": "2020-12-21T12:22:10.346717",
     "status": "completed"
    },
    "tags": []
   },
   "outputs": [],
   "source": [
    "y_test = np.argmax(loaded_model.predict(test_x), 1)"
   ]
  },
  {
   "cell_type": "markdown",
   "metadata": {},
   "source": [
    "### Submission"
   ]
  },
  {
   "cell_type": "code",
   "execution_count": 31,
   "metadata": {
    "execution": {
     "iopub.execute_input": "2020-12-21T12:28:35.149307Z",
     "iopub.status.busy": "2020-12-21T12:28:35.138161Z",
     "iopub.status.idle": "2020-12-21T12:28:35.209730Z",
     "shell.execute_reply": "2020-12-21T12:28:35.209325Z"
    },
    "papermill": {
     "duration": 0.120708,
     "end_time": "2020-12-21T12:28:35.209816",
     "exception": false,
     "start_time": "2020-12-21T12:28:35.089108",
     "status": "completed"
    },
    "tags": []
   },
   "outputs": [
    {
     "data": {
      "text/html": [
       "<div>\n",
       "<style scoped>\n",
       "    .dataframe tbody tr th:only-of-type {\n",
       "        vertical-align: middle;\n",
       "    }\n",
       "\n",
       "    .dataframe tbody tr th {\n",
       "        vertical-align: top;\n",
       "    }\n",
       "\n",
       "    .dataframe thead th {\n",
       "        text-align: right;\n",
       "    }\n",
       "</style>\n",
       "<table border=\"1\" class=\"dataframe\">\n",
       "  <thead>\n",
       "    <tr style=\"text-align: right;\">\n",
       "      <th></th>\n",
       "      <th>Id</th>\n",
       "      <th>Category</th>\n",
       "    </tr>\n",
       "  </thead>\n",
       "  <tbody>\n",
       "    <tr>\n",
       "      <th>0</th>\n",
       "      <td>0</td>\n",
       "      <td>1.0</td>\n",
       "    </tr>\n",
       "    <tr>\n",
       "      <th>1</th>\n",
       "      <td>1</td>\n",
       "      <td>0.0</td>\n",
       "    </tr>\n",
       "    <tr>\n",
       "      <th>2</th>\n",
       "      <td>2</td>\n",
       "      <td>1.0</td>\n",
       "    </tr>\n",
       "    <tr>\n",
       "      <th>3</th>\n",
       "      <td>3</td>\n",
       "      <td>4.0</td>\n",
       "    </tr>\n",
       "    <tr>\n",
       "      <th>4</th>\n",
       "      <td>4</td>\n",
       "      <td>2.0</td>\n",
       "    </tr>\n",
       "  </tbody>\n",
       "</table>\n",
       "</div>"
      ],
      "text/plain": [
       "  Id  Category\n",
       "0  0       1.0\n",
       "1  1       0.0\n",
       "2  2       1.0\n",
       "3  3       4.0\n",
       "4  4       2.0"
      ]
     },
     "execution_count": 31,
     "metadata": {},
     "output_type": "execute_result"
    }
   ],
   "source": [
    "df = pd.read_csv('../input/ift3395-6390-quickdraw/sample_submission.csv')\n",
    "df.head()"
   ]
  },
  {
   "cell_type": "code",
   "execution_count": 32,
   "metadata": {
    "execution": {
     "iopub.execute_input": "2020-12-21T12:28:35.299378Z",
     "iopub.status.busy": "2020-12-21T12:28:35.298573Z",
     "iopub.status.idle": "2020-12-21T12:28:36.054761Z",
     "shell.execute_reply": "2020-12-21T12:28:36.053716Z"
    },
    "papermill": {
     "duration": 0.803442,
     "end_time": "2020-12-21T12:28:36.054876",
     "exception": false,
     "start_time": "2020-12-21T12:28:35.251434",
     "status": "completed"
    },
    "tags": []
   },
   "outputs": [],
   "source": [
    "sub = pd.DataFrame([])\n",
    "sub['Category'] = y_test\n",
    "sub = sub.reset_index()\n",
    "sub.columns = ['Id','Category']\n",
    "sub.to_csv('./sub_1496.csv',index=False)"
   ]
  },
  {
   "cell_type": "code",
   "execution_count": null,
   "metadata": {
    "papermill": {
     "duration": 0.041656,
     "end_time": "2020-12-21T12:28:36.138610",
     "exception": false,
     "start_time": "2020-12-21T12:28:36.096954",
     "status": "completed"
    },
    "tags": []
   },
   "outputs": [],
   "source": []
  }
 ],
 "metadata": {
  "kernelspec": {
   "display_name": "Python 3",
   "language": "python",
   "name": "python3"
  },
  "language_info": {
   "codemirror_mode": {
    "name": "ipython",
    "version": 3
   },
   "file_extension": ".py",
   "mimetype": "text/x-python",
   "name": "python",
   "nbconvert_exporter": "python",
   "pygments_lexer": "ipython3",
   "version": "3.7.7"
  },
  "papermill": {
   "duration": 3035.108088,
   "end_time": "2020-12-21T12:28:38.551286",
   "environment_variables": {},
   "exception": null,
   "input_path": "__notebook__.ipynb",
   "output_path": "__notebook__.ipynb",
   "parameters": {},
   "start_time": "2020-12-21T11:38:03.443198",
   "version": "2.1.0"
  }
 },
 "nbformat": 4,
 "nbformat_minor": 4
}
